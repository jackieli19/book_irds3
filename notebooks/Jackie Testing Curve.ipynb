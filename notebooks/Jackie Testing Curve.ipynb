{
 "cells": [
  {
   "cell_type": "code",
   "execution_count": 1,
   "id": "245d1c26-f8ff-480d-8009-03092df10038",
   "metadata": {},
   "outputs": [],
   "source": [
    "import module_loader\n",
    "import pandas as pd\n",
    "import module_loader\n",
    "import pandas as pd\n",
    "from bookirds.curves import *\n",
    "from bookirds.dual import Dual"
   ]
  },
  {
   "cell_type": "code",
   "execution_count": 3,
   "id": "07db7c91-7729-48ab-8bc1-f2f3dbf8685f",
   "metadata": {},
   "outputs": [],
   "source": [
    "def exp(x):\n",
    "    if isinstance(x, Dual):\n",
    "        return x.__exp__()\n",
    "    return math.exp(x)\n",
    "\n",
    "\n",
    "def log(x):\n",
    "    if isinstance(x, Dual):\n",
    "        return x.__log__()\n",
    "    return math.log(x)\n",
    "\n",
    "\n",
    "def interpolate(x, x_1, y_1, x_2, y_2, interpolation, start=None):\n",
    "    if interpolation == \"linear\":\n",
    "        op = lambda z: z\n",
    "    elif interpolation == \"log_linear\":\n",
    "        op, y_1, y_2 = exp, log(y_1), log(y_2)\n",
    "    elif interpolation == \"linear_zero_rate\":\n",
    "        y_1 = log(y_1) / ((start - x_1) / timedelta(days=365))\n",
    "        y_2 = log(y_2) / ((start - x_2) / timedelta(days=365))\n",
    "        op = lambda z: exp((start-x)/timedelta(days=365) * z)\n",
    "    ret = op(y_1 + (y_2 - y_1) * (x - x_1) / (x_2 - x_1))\n",
    "    return ret"
   ]
  },
  {
   "cell_type": "code",
   "execution_count": 2,
   "id": "c2d4fb7c-5f7e-40fe-9434-b8a475e8232b",
   "metadata": {},
   "outputs": [],
   "source": [
    "class Curve:\n",
    "\n",
    "    def __init__(self, nodes: dict, interpolation: str, **kwargs):\n",
    "        self.nodes = deepcopy(nodes)\n",
    "        self.interpolation = interpolation\n",
    "\n",
    "    def __getitem__(self, date: datetime):\n",
    "        node_dates = list(self.nodes.keys())\n",
    "        for i, node_date_1 in enumerate(node_dates[1:]):\n",
    "            if date <= node_date_1 or i == len(node_dates) - 2:\n",
    "                node_date_0 = node_dates[i]\n",
    "                return interpolate(\n",
    "                    date,\n",
    "                    node_date_0,\n",
    "                    self.nodes[node_date_0],\n",
    "                    node_date_1,\n",
    "                    self.nodes[node_date_1],\n",
    "                    self.interpolation,\n",
    "                    node_dates[0]\n",
    "                )\n",
    "\n",
    "    def __repr__(self):\n",
    "        output = \"\"\n",
    "        for k, v in self.nodes.items():\n",
    "            output += f\"{k.strftime('%Y-%b-%d')}: {v:.6f}\\n\"\n",
    "        return output\n"
   ]
  },
  {
   "cell_type": "code",
   "execution_count": null,
   "id": "6912747a-ccc5-4379-9c5a-441821f01887",
   "metadata": {},
   "outputs": [],
   "source": [
    "class Swap(Covar_, PCA_, Margin_):\n",
    "\n",
    "    def __init__(\n",
    "        self,\n",
    "        start: datetime,\n",
    "        tenor: int,\n",
    "        period_fix: int,\n",
    "        period_float: int,\n",
    "        days: bool = False,\n",
    "        fixed_rate: float = None,\n",
    "        notional: float = None,\n",
    "    ):\n",
    "        self.add_op = add_days if days else add_months\n",
    "        self.start = start\n",
    "        self.end = self.add_op(start, tenor)\n",
    "        self.schedule_fix = Schedule(start, tenor, period_fix, days=days)\n",
    "        self.schedule_float = Schedule(start, tenor, period_float, days=days)\n",
    "        self.fixed_rate = fixed_rate\n",
    "        self.notional = 1e6 if notional is None else notional\n",
    "\n",
    "    def __repr__(self):\n",
    "        return f\"<Swap: {self.start.strftime('%Y-%m-%d')} -> \" \\\n",
    "               f\"{self.end.strftime('%Y-%m-%d')}>\"\n",
    "\n",
    "    def analytic_delta(self, curve: Curve, leg: str = \"fix\"):\n",
    "        delta = 0\n",
    "        for period in getattr(self, f\"schedule_{leg}\").data:\n",
    "            delta += curve[period[1]] * period[2]\n",
    "        return delta * self.notional / 10000\n",
    "\n",
    "    def rate(self, curve: Curve):\n",
    "        if self.notional == 0:\n",
    "            self.notional = 1\n",
    "            analytic_delta = self.analytic_delta(curve) * 10000 / self.notional\n",
    "            rate = (curve[self.start] - curve[self.end]) / analytic_delta\n",
    "            self.notional = 0\n",
    "        else:\n",
    "            analytic_delta = self.analytic_delta(curve) * 10000 / self.notional\n",
    "            rate = (curve[self.start] - curve[self.end]) / analytic_delta\n",
    "        return rate * 100\n",
    "\n",
    "    def npv(self, curve: Curve):\n",
    "        self.set_fixed_rate(fixed_rate=self.fixed_rate, curve=curve)\n",
    "        npv = (self.rate(curve) - self.fixed_rate) * self.analytic_delta(curve)\n",
    "        return npv * 100\n",
    "\n",
    "    def risk(self, curve: SolvedCurve):\n",
    "        grad_v_P = np.array([\n",
    "            [self.npv(curve).dual.get(f\"v{i+1}\", 0)\n",
    "             for i in range(curve.n)]\n",
    "        ]).transpose()\n",
    "        grad_s_P = np.matmul(curve.grad_s_v, grad_v_P)\n",
    "        return grad_s_P / 100\n",
    "\n",
    "    def set_fixed_rate(self, fixed_rate: float = None, *args, **kwargs):\n",
    "        if fixed_rate is None:\n",
    "            fixed_rate = self.rate(*args, **kwargs)\n",
    "            if isinstance(fixed_rate, Dual):\n",
    "                fixed_rate = fixed_rate.real\n",
    "        self.fixed_rate = fixed_rate"
   ]
  },
  {
   "cell_type": "code",
   "execution_count": 4,
   "id": "7e651a6a-b198-4f2c-8c62-d6250161fcd6",
   "metadata": {},
   "outputs": [],
   "source": [
    "curve = Curve(interpolation='log_linear',nodes={datetime(2022, 1, 1): 1.00,\n",
    "    datetime(2023, 1, 1): 0.9975,\n",
    "    datetime(2024, 1, 1): 0.9945,\n",
    "    datetime(2025, 1, 1): 0.991})"
   ]
  },
  {
   "cell_type": "code",
   "execution_count": null,
   "id": "9d5664b5-7484-41f0-b12a-4b693d85cce4",
   "metadata": {},
   "outputs": [],
   "source": [
    "curve_dual2 = Curve(interpolation='log_linear',nodes={datetime(2022, 1, 1): Dual(1,{'v0':1}),\n",
    "    datetime(2023, 1, 1): : Dual(0.9975,{'v1':1}),\n",
    "    datetime(2024, 1, 1): : Dual(0.9945,{'v2':1})})"
   ]
  },
  {
   "cell_type": "code",
   "execution_count": 11,
   "id": "d3ad1198-56b5-406d-bc8a-41607cc60088",
   "metadata": {},
   "outputs": [
    {
     "data": {
      "text/plain": [
       "0.9994994992486761"
      ]
     },
     "execution_count": 11,
     "metadata": {},
     "output_type": "execute_result"
    }
   ],
   "source": [
    "curve[datetime(2022,3,15)]"
   ]
  },
  {
   "cell_type": "code",
   "execution_count": 6,
   "id": "7d888ee2-6943-4705-9955-874eca2b0475",
   "metadata": {},
   "outputs": [
    {
     "name": "stdout",
     "output_type": "stream",
     "text": [
      "2022-Jan-01: 1.000000\n",
      "2023-Jan-01: 0.997500\n",
      "2024-Jan-01: 0.994500\n",
      "2025-Jan-01: 0.991000\n",
      "\n"
     ]
    }
   ],
   "source": [
    "print(curve)"
   ]
  },
  {
   "cell_type": "code",
   "execution_count": 8,
   "id": "1a7d7c5c-be4d-4f9f-a24b-9a5e9a19260b",
   "metadata": {},
   "outputs": [
    {
     "name": "stdout",
     "output_type": "stream",
     "text": [
      "2022-Jan-01: 1.000000\n",
      "2023-Jan-01: 0.997500\n",
      "2024-Jan-01: 0.994500\n",
      "2025-Jan-01: 0.991000\n",
      "\n"
     ]
    }
   ],
   "source": [
    "print(repr(curve))"
   ]
  },
  {
   "cell_type": "code",
   "execution_count": 9,
   "id": "b9a77833-ea93-4a1c-b24b-5724f11b3994",
   "metadata": {},
   "outputs": [
    {
     "data": {
      "text/plain": [
       "'2022-Jan-01: 1.000000\\n2023-Jan-01: 0.997500\\n2024-Jan-01: 0.994500\\n2025-Jan-01: 0.991000\\n'"
      ]
     },
     "execution_count": 9,
     "metadata": {},
     "output_type": "execute_result"
    }
   ],
   "source": [
    "repr(curve)"
   ]
  },
  {
   "cell_type": "code",
   "execution_count": 17,
   "id": "861edcae-bb29-4c69-acc6-25686b6944a0",
   "metadata": {},
   "outputs": [],
   "source": [
    "swap=Swap(datetime(2022,2,14),4,12,1,notional=1e9)"
   ]
  },
  {
   "cell_type": "code",
   "execution_count": 18,
   "id": "f92d00c3-eee9-4f15-9cbb-7e31533b7f2a",
   "metadata": {},
   "outputs": [
    {
     "name": "stdout",
     "output_type": "stream",
     "text": [
      "<Swap: 2022-02-14 -> 2022-06-14> period start | period end | period DCF\n",
      "2022-Feb-14 | 2022-Jun-14 | 0.328767\n",
      " period start | period end | period DCF\n",
      "2022-Feb-14 | 2022-Mar-14 | 0.076712\n",
      "2022-Mar-14 | 2022-Apr-14 | 0.084932\n",
      "2022-Apr-14 | 2022-May-14 | 0.082192\n",
      "2022-May-14 | 2022-Jun-14 | 0.084932\n",
      "\n"
     ]
    }
   ],
   "source": [
    "print(swap,swap.schedule_fix,swap.schedule_float)"
   ]
  },
  {
   "cell_type": "code",
   "execution_count": 19,
   "id": "de854f33-0ad1-4dc8-87f0-b2b91b1ea69d",
   "metadata": {},
   "outputs": [
    {
     "data": {
      "text/plain": [
       "32839.756869237724"
      ]
     },
     "execution_count": 19,
     "metadata": {},
     "output_type": "execute_result"
    }
   ],
   "source": [
    "swap.analytic_delta(curve)"
   ]
  },
  {
   "cell_type": "code",
   "execution_count": 20,
   "id": "1916befe-507b-40eb-ad79-0814a6c682f7",
   "metadata": {},
   "outputs": [
    {
     "data": {
      "text/plain": [
       "[[datetime.datetime(2022, 2, 14, 0, 0),\n",
       "  datetime.datetime(2022, 6, 14, 0, 0),\n",
       "  0.3287671232876712]]"
      ]
     },
     "execution_count": 20,
     "metadata": {},
     "output_type": "execute_result"
    }
   ],
   "source": []
  },
  {
   "cell_type": "code",
   "execution_count": 22,
   "id": "597fb0e7-87fd-42ce-9988-89a5bed841e7",
   "metadata": {},
   "outputs": [],
   "source": [
    "delta = 0\n",
    "for period in swap.schedule_fix.data:\n",
    "    delta += curve[period[1]] * period[2]"
   ]
  },
  {
   "cell_type": "code",
   "execution_count": 23,
   "id": "d1346ffb-89b5-4828-9429-a1eb1506fd8d",
   "metadata": {},
   "outputs": [
    {
     "data": {
      "text/plain": [
       "0.3283975686923773"
      ]
     },
     "execution_count": 23,
     "metadata": {},
     "output_type": "execute_result"
    }
   ],
   "source": [
    "delta"
   ]
  },
  {
   "cell_type": "code",
   "execution_count": 24,
   "id": "55ae5053-a110-458e-9436-83b762950a59",
   "metadata": {},
   "outputs": [
    {
     "data": {
      "text/plain": [
       "[[datetime.datetime(2022, 2, 14, 0, 0),\n",
       "  datetime.datetime(2022, 6, 14, 0, 0),\n",
       "  0.3287671232876712]]"
      ]
     },
     "execution_count": 24,
     "metadata": {},
     "output_type": "execute_result"
    }
   ],
   "source": [
    "swap.schedule_fix.data"
   ]
  },
  {
   "cell_type": "code",
   "execution_count": 25,
   "id": "a49494ab-dd41-4ebe-a081-a74c25f9e476",
   "metadata": {},
   "outputs": [
    {
     "name": "stdout",
     "output_type": "stream",
     "text": [
      "0.250416047241978\n"
     ]
    }
   ],
   "source": [
    "print(swap.rate(curve))"
   ]
  },
  {
   "cell_type": "code",
   "execution_count": null,
   "id": "872c9d79-6838-470a-89b1-7e9c8385c421",
   "metadata": {},
   "outputs": [],
   "source": []
  }
 ],
 "metadata": {
  "kernelspec": {
   "display_name": "Python 3 (ipykernel)",
   "language": "python",
   "name": "python3"
  },
  "language_info": {
   "codemirror_mode": {
    "name": "ipython",
    "version": 3
   },
   "file_extension": ".py",
   "mimetype": "text/x-python",
   "name": "python",
   "nbconvert_exporter": "python",
   "pygments_lexer": "ipython3",
   "version": "3.8.17"
  }
 },
 "nbformat": 4,
 "nbformat_minor": 5
}
