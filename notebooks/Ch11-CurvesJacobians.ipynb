{
 "cells": [
  {
   "cell_type": "code",
   "execution_count": 1,
   "id": "78d62429-b45e-472f-8bc4-f57d02927e41",
   "metadata": {
    "tags": []
   },
   "outputs": [],
   "source": [
    "import module_loader\n",
    "import pandas as pd\n",
    "from bookirds.curves import *\n",
    "from bookirds.dual import Dual"
   ]
  },
  {
   "cell_type": "markdown",
   "id": "7b5bd51d-d3bd-4210-a33c-4fc8fcece764",
   "metadata": {},
   "source": [
    "### Define our Market Rates and Solve our Curve\n",
    "\n",
    "We will create 1y, 2y, 5y and 10y par swap rates"
   ]
  },
  {
   "cell_type": "code",
   "execution_count": 2,
   "id": "441182fe-47a3-44bc-a765-23de161b0401",
   "metadata": {
    "tags": []
   },
   "outputs": [
    {
     "name": "stdout",
     "output_type": "stream",
     "text": [
      "tolerance reached (levenberg_marquardt) after 9 iterations, func: 4.763309217681635e-15\n"
     ]
    }
   ],
   "source": [
    "nodes = {\n",
    "    datetime(2022, 1, 1): Dual(1, {\"v0\": 1}),\n",
    "    datetime(2023, 1, 1): Dual(1, {\"v1\": 1}),\n",
    "    datetime(2024, 1, 1): Dual(1, {\"v2\": 1}),\n",
    "    datetime(2027, 1, 1): Dual(1, {\"v3\": 1}),\n",
    "    datetime(2032, 1, 1): Dual(1, {\"v4\": 1})\n",
    "}\n",
    "swaps = {\n",
    "    Swap(datetime(2022, 1, 1), 12*1, 12, 12): 1.210,\n",
    "    Swap(datetime(2022, 1, 1), 12*2, 12, 12): 1.635,\n",
    "    Swap(datetime(2022, 1, 1), 12*5, 12, 12): 1.885,\n",
    "    Swap(datetime(2022, 1, 1), 12*10, 12, 12): 1.930,\n",
    "}\n",
    "s_cv = SolvedCurve(\n",
    "    nodes=nodes,\n",
    "    swaps=list(swaps.keys()),\n",
    "    obj_rates=list(swaps.values()),\n",
    "    interpolation=\"log_linear\",\n",
    "    algorithm=\"levenberg_marquardt\"\n",
    ")\n",
    "print(s_cv.iterate())"
   ]
  },
  {
   "cell_type": "markdown",
   "id": "1cd433b3-1208-45bd-96dd-45385a3c833e",
   "metadata": {},
   "source": [
    "Check that our solved curve is re-pricing our input swap rates"
   ]
  },
  {
   "cell_type": "code",
   "execution_count": 3,
   "id": "0ba8a24e-aacf-447e-add9-83867a0f967c",
   "metadata": {
    "tags": []
   },
   "outputs": [
    {
     "name": "stdout",
     "output_type": "stream",
     "text": [
      "1.2100000001274405\n",
      "1.635000000529199\n",
      "1.8850000037073773\n",
      "1.9299999310850648\n"
     ]
    }
   ],
   "source": [
    "for swap in swaps.keys():\n",
    "    print(swap.rate(s_cv).real)"
   ]
  },
  {
   "cell_type": "markdown",
   "id": "12e48199-5009-4646-a555-64ddcea2bcff",
   "metadata": {},
   "source": [
    "Yes, close enough!"
   ]
  },
  {
   "cell_type": "markdown",
   "id": "4a90929e-65a5-4337-91e2-c69f3d93cd51",
   "metadata": {},
   "source": [
    "Lets check that our risk function generates risk only for the exact instrument"
   ]
  },
  {
   "cell_type": "code",
   "execution_count": null,
   "id": "75199390-01f7-4689-a0f9-5fff11dd8b83",
   "metadata": {},
   "outputs": [],
   "source": [
    "risk = {}\n",
    "for swap in swaps.keys():\n",
    "    risk.update({swap.end: swap.risk(s_cv)[:, 0]})\n",
    "    \n",
    "df = pd.DataFrame(risk, index=[\"1y\", \"2y\", \"5y\", \"10y\"])\n",
    "df.style.format(\"{:.3f}\")"
   ]
  },
  {
   "cell_type": "markdown",
   "id": "88dcf74b-5524-49a4-986c-2eee19d96c87",
   "metadata": {},
   "source": [
    "That is close enough with tolerance. \n",
    "\n",
    "### Forward to Par Jacobian\n",
    "\n",
    "Now lets consider some forward swaps, and update their rates with our solved curve, and risk these swaps against our curve."
   ]
  },
  {
   "cell_type": "code",
   "execution_count": null,
   "id": "0853a522-2c7c-4aaf-854e-98d5bcb67975",
   "metadata": {},
   "outputs": [],
   "source": [
    "fwd_swaps = {\n",
    "    Swap(datetime(2022, 1, 1), 12*1, 12, 12): 1,\n",
    "    Swap(datetime(2023, 1, 1), 12*1, 12, 12): 1,\n",
    "    Swap(datetime(2024, 1, 1), 12*3, 12, 12): 1,\n",
    "    Swap(datetime(2027, 1, 1), 12*5, 12, 12): 1,\n",
    "}\n",
    "for swap in fwd_swaps.keys():\n",
    "    rate = swap.rate(s_cv).real\n",
    "    fwd_swaps[swap] = rate\n",
    "    swap.set_fixed_rate(fixed_rate=rate)\n",
    "fwd_swaps\n",
    "\n",
    "risk = {}\n",
    "for swap in fwd_swaps.keys():\n",
    "    risk.update({swap.end: swap.risk(s_cv)[:, 0]})\n",
    "\n",
    "df = pd.DataFrame(risk, index=[\"1y\", \"2y\", \"5y\", \"10y\"])\n",
    "df.style.format(\"{:.3f}\")"
   ]
  },
  {
   "cell_type": "markdown",
   "id": "d90b9561-6532-475a-a808-172b1c49137b",
   "metadata": {},
   "source": [
    "What we have done above is to risk forward swaps against our curve. When we scale each of these columns to one we have effectively built a Jacobian transformation for forward swaps to par swaps."
   ]
  },
  {
   "cell_type": "code",
   "execution_count": null,
   "id": "0b713a66-151c-406d-8c1f-6b4e41aef681",
   "metadata": {},
   "outputs": [],
   "source": [
    "J_fwd_par = (df / df.sum()).to_numpy()\n",
    "pd.DataFrame(J_fwd_par).style.format(\"{:.3f}\")"
   ]
  },
  {
   "cell_type": "markdown",
   "id": "ce04b8a5-4d7d-496d-b45a-d908506d81f6",
   "metadata": {},
   "source": [
    "### Par to Forward Jacobian\n",
    "\n",
    "Lets consider the process in reverse, defining our curve from forward swaps."
   ]
  },
  {
   "cell_type": "code",
   "execution_count": null,
   "id": "4c6c37b7-527c-4abf-bd38-cfdeb11f174a",
   "metadata": {},
   "outputs": [],
   "source": [
    "s_cv = SolvedCurve(\n",
    "    nodes=nodes,\n",
    "    swaps=list(fwd_swaps.keys()),\n",
    "    obj_rates=list(fwd_swaps.values()),\n",
    "    interpolation=\"log_linear\",\n",
    "    algorithm=\"levenberg_marquardt\"\n",
    ")\n",
    "print(s_cv.iterate())"
   ]
  },
  {
   "cell_type": "code",
   "execution_count": null,
   "id": "265f8b3c-bcea-4376-a970-ae8116068d25",
   "metadata": {},
   "outputs": [],
   "source": [
    "for swap in fwd_swaps.keys():\n",
    "    print(swap.rate(s_cv).real)"
   ]
  },
  {
   "cell_type": "code",
   "execution_count": null,
   "id": "37bd9d96-394c-4a03-9579-6bc69c2cece5",
   "metadata": {},
   "outputs": [],
   "source": [
    "risk = {}\n",
    "for swap in fwd_swaps.keys():\n",
    "    risk.update({swap.end: swap.risk(s_cv)[:, 0]})\n",
    "    \n",
    "df = pd.DataFrame(risk, index=[\"1y\", \"1y1y\", \"2y3y\", \"5y5y\"])\n",
    "df.style.format(\"{:.3f}\")"
   ]
  },
  {
   "cell_type": "code",
   "execution_count": null,
   "id": "21db851c-bb3a-45fc-b207-95a22d178449",
   "metadata": {},
   "outputs": [],
   "source": [
    "risk = {}\n",
    "for swap, rate in swaps.items():\n",
    "    risk.update({swap.end: swap.risk(s_cv)[:, 0]})\n",
    "\n",
    "df = pd.DataFrame(risk, index=[\"1y\", \"1y1y\", \"2y3y\", \"5y5y\"])\n",
    "df.style.format(\"{:.3f}\")"
   ]
  },
  {
   "cell_type": "markdown",
   "id": "4ce20583-719d-426a-aad7-baedc22a6aec",
   "metadata": {},
   "source": [
    "What we have done above is to risk par swaps against our forward curve. When we scale each of these columns to one we have effectively built a Jacobian transformation for par swaps to forward swaps."
   ]
  },
  {
   "cell_type": "code",
   "execution_count": null,
   "id": "3f8b507a-2f0f-4582-b5db-aceb0bf17f3a",
   "metadata": {},
   "outputs": [],
   "source": [
    "J_par_fwd = (df / df.sum()).to_numpy()\n",
    "pd.DataFrame(J_par_fwd).style.format(\"{:.3f}\")"
   ]
  },
  {
   "cell_type": "markdown",
   "id": "fbff9c76-6911-46a0-9333-894e461de560",
   "metadata": {},
   "source": [
    "### Testing the lossless nature of our numerical library\n",
    "\n",
    "We should be able to convert and then convert back to obtain the same risks.\n",
    "\n",
    "Suppose we convert 1000 10Y par risk to fwd risk and then back to par risk, what happens?"
   ]
  },
  {
   "cell_type": "code",
   "execution_count": null,
   "id": "ff70bfa9-3400-47d1-8b0a-25933efc3698",
   "metadata": {},
   "outputs": [],
   "source": [
    "par_risk = np.array([0, 0, 0, 1000])[:, np.newaxis]\n",
    "fwd_risk = np.matmul(J_par_fwd, par_risk)\n",
    "fwd_risk"
   ]
  },
  {
   "cell_type": "code",
   "execution_count": null,
   "id": "a3442bb7-c166-4f16-8357-9d34601dcecd",
   "metadata": {},
   "outputs": [],
   "source": [
    "par_risk_reversed = np.matmul(J_fwd_par, fwd_risk)\n",
    "par_risk_reversed"
   ]
  },
  {
   "cell_type": "markdown",
   "id": "255ece84-a437-4b5e-8556-0f3aef5b91b5",
   "metadata": {},
   "source": [
    "This is close, but we have lost some precision due to either machine precision or numerical truncation.\n",
    "\n",
    "The same can be seen if we compare the analytical inverses of the Jacobians."
   ]
  },
  {
   "cell_type": "code",
   "execution_count": null,
   "id": "243eb098-0780-4c2d-a219-370cd4b3a155",
   "metadata": {},
   "outputs": [],
   "source": [
    "pd.DataFrame(J_par_fwd - np.linalg.inv(J_fwd_par)).style.format(\"{:.4f}\")"
   ]
  },
  {
   "cell_type": "code",
   "execution_count": null,
   "id": "018bdf6d-e895-4541-a586-d873713a3bb6",
   "metadata": {},
   "outputs": [],
   "source": [
    "pd.DataFrame(J_fwd_par - np.linalg.inv(J_par_fwd)).style.format(\"{:.4f}\")"
   ]
  }
 ],
 "metadata": {
  "kernelspec": {
   "display_name": "Python 3 (ipykernel)",
   "language": "python",
   "name": "python3"
  },
  "language_info": {
   "codemirror_mode": {
    "name": "ipython",
    "version": 3
   },
   "file_extension": ".py",
   "mimetype": "text/x-python",
   "name": "python",
   "nbconvert_exporter": "python",
   "pygments_lexer": "ipython3",
   "version": "3.7.16"
  }
 },
 "nbformat": 4,
 "nbformat_minor": 5
}
