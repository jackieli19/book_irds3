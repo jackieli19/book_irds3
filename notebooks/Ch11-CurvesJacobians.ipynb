{
 "cells": [
  {
   "cell_type": "code",
   "execution_count": 23,
   "id": "78d62429-b45e-472f-8bc4-f57d02927e41",
   "metadata": {},
   "outputs": [],
   "source": [
    "import module_loader\n",
    "import pandas as pd\n",
    "from bookirds.curves import *\n",
    "from bookirds.dual import Dual"
   ]
  },
  {
   "cell_type": "markdown",
   "id": "7b5bd51d-d3bd-4210-a33c-4fc8fcece764",
   "metadata": {},
   "source": [
    "### Define our Market Rates and Solve our Curve\n",
    "\n",
    "We will create 1y, 2y, 5y and 10y par swap rates"
   ]
  },
  {
   "cell_type": "code",
   "execution_count": 25,
   "id": "441182fe-47a3-44bc-a765-23de161b0401",
   "metadata": {},
   "outputs": [
    {
     "name": "stdout",
     "output_type": "stream",
     "text": [
      "tolerance reached (levenberg_marquardt) after 9 iterations, func: 4.763309217681635e-15\n"
     ]
    }
   ],
   "source": [
    "nodes = {\n",
    "    datetime(2022, 1, 1): Dual(1, {\"v0\": 1}),\n",
    "    datetime(2023, 1, 1): Dual(1, {\"v1\": 1}),\n",
    "    datetime(2024, 1, 1): Dual(1, {\"v2\": 1}),\n",
    "    datetime(2027, 1, 1): Dual(1, {\"v3\": 1}),\n",
    "    datetime(2032, 1, 1): Dual(1, {\"v4\": 1})\n",
    "}\n",
    "swaps = {\n",
    "    Swap(datetime(2022, 1, 1), 12*1, 12, 12): 1.210,\n",
    "    Swap(datetime(2022, 1, 1), 12*2, 12, 12): 1.635,\n",
    "    Swap(datetime(2022, 1, 1), 12*5, 12, 12): 1.885,\n",
    "    Swap(datetime(2022, 1, 1), 12*10, 12, 12): 1.930,\n",
    "}\n",
    "s_cv = SolvedCurve(\n",
    "    nodes=nodes,\n",
    "    swaps=list(swaps.keys()),\n",
    "    obj_rates=list(swaps.values()),\n",
    "    interpolation=\"log_linear\",\n",
    "    algorithm=\"levenberg_marquardt\"\n",
    ")\n",
    "print(s_cv.iterate())"
   ]
  },
  {
   "cell_type": "markdown",
   "id": "1cd433b3-1208-45bd-96dd-45385a3c833e",
   "metadata": {},
   "source": [
    "Check that our solved curve is re-pricing our input swap rates"
   ]
  },
  {
   "cell_type": "code",
   "execution_count": 28,
   "id": "0ba8a24e-aacf-447e-add9-83867a0f967c",
   "metadata": {},
   "outputs": [
    {
     "name": "stdout",
     "output_type": "stream",
     "text": [
      "1.2100000001274405\n",
      "1.635000000529199\n",
      "1.8850000037073773\n",
      "1.9299999310850648\n"
     ]
    }
   ],
   "source": [
    "for swap in swaps.keys():\n",
    "    print(swap.rate(s_cv).real)"
   ]
  },
  {
   "cell_type": "markdown",
   "id": "12e48199-5009-4646-a555-64ddcea2bcff",
   "metadata": {},
   "source": [
    "Yes, close enough!"
   ]
  },
  {
   "cell_type": "markdown",
   "id": "4a90929e-65a5-4337-91e2-c69f3d93cd51",
   "metadata": {},
   "source": [
    "Lets check that our risk function generates risk only for the exact instrument"
   ]
  },
  {
   "cell_type": "code",
   "execution_count": 30,
   "id": "75199390-01f7-4689-a0f9-5fff11dd8b83",
   "metadata": {},
   "outputs": [
    {
     "data": {
      "text/html": [
       "<style type=\"text/css\">\n",
       "</style>\n",
       "<table id=\"T_12799\">\n",
       "  <thead>\n",
       "    <tr>\n",
       "      <th class=\"blank level0\" >&nbsp;</th>\n",
       "      <th id=\"T_12799_level0_col0\" class=\"col_heading level0 col0\" >2023-01-01 00:00:00</th>\n",
       "      <th id=\"T_12799_level0_col1\" class=\"col_heading level0 col1\" >2024-01-01 00:00:00</th>\n",
       "      <th id=\"T_12799_level0_col2\" class=\"col_heading level0 col2\" >2027-01-01 00:00:00</th>\n",
       "      <th id=\"T_12799_level0_col3\" class=\"col_heading level0 col3\" >2032-01-01 00:00:00</th>\n",
       "    </tr>\n",
       "  </thead>\n",
       "  <tbody>\n",
       "    <tr>\n",
       "      <th id=\"T_12799_level0_row0\" class=\"row_heading level0 row0\" >1y</th>\n",
       "      <td id=\"T_12799_row0_col0\" class=\"data row0 col0\" >98.804</td>\n",
       "      <td id=\"T_12799_row0_col1\" class=\"data row0 col1\" >-0.000</td>\n",
       "      <td id=\"T_12799_row0_col2\" class=\"data row0 col2\" >0.000</td>\n",
       "      <td id=\"T_12799_row0_col3\" class=\"data row0 col3\" >-0.000</td>\n",
       "    </tr>\n",
       "    <tr>\n",
       "      <th id=\"T_12799_level0_row1\" class=\"row_heading level0 row1\" >2y</th>\n",
       "      <td id=\"T_12799_row1_col0\" class=\"data row1 col0\" >0.000</td>\n",
       "      <td id=\"T_12799_row1_col1\" class=\"data row1 col1\" >195.606</td>\n",
       "      <td id=\"T_12799_row1_col2\" class=\"data row1 col2\" >0.000</td>\n",
       "      <td id=\"T_12799_row1_col3\" class=\"data row1 col3\" >-0.000</td>\n",
       "    </tr>\n",
       "    <tr>\n",
       "      <th id=\"T_12799_level0_row2\" class=\"row_heading level0 row2\" >5y</th>\n",
       "      <td id=\"T_12799_row2_col0\" class=\"data row2 col0\" >0.000</td>\n",
       "      <td id=\"T_12799_row2_col1\" class=\"data row2 col1\" >0.000</td>\n",
       "      <td id=\"T_12799_row2_col2\" class=\"data row2 col2\" >474.689</td>\n",
       "      <td id=\"T_12799_row2_col3\" class=\"data row2 col3\" >-0.000</td>\n",
       "    </tr>\n",
       "    <tr>\n",
       "      <th id=\"T_12799_level0_row3\" class=\"row_heading level0 row3\" >10y</th>\n",
       "      <td id=\"T_12799_row3_col0\" class=\"data row3 col0\" >0.000</td>\n",
       "      <td id=\"T_12799_row3_col1\" class=\"data row3 col1\" >0.000</td>\n",
       "      <td id=\"T_12799_row3_col2\" class=\"data row3 col2\" >0.000</td>\n",
       "      <td id=\"T_12799_row3_col3\" class=\"data row3 col3\" >904.334</td>\n",
       "    </tr>\n",
       "  </tbody>\n",
       "</table>\n"
      ],
      "text/plain": [
       "<pandas.io.formats.style.Styler at 0x7f7a6d416a90>"
      ]
     },
     "execution_count": 30,
     "metadata": {},
     "output_type": "execute_result"
    }
   ],
   "source": [
    "risk = {}\n",
    "for swap in swaps.keys():\n",
    "    risk.update({swap.end: swap.risk(s_cv)[:, 0]})\n",
    "    \n",
    "df = pd.DataFrame(risk, index=[\"1y\", \"2y\", \"5y\", \"10y\"])\n",
    "df.style.format(\"{:.3f}\")"
   ]
  },
  {
   "cell_type": "markdown",
   "id": "88dcf74b-5524-49a4-986c-2eee19d96c87",
   "metadata": {},
   "source": [
    "That is close enough with tolerance. \n",
    "\n",
    "### Forward to Par Jacobian\n",
    "\n",
    "Now lets consider some forward swaps, and update their rates with our solved curve, and risk these swaps against our curve."
   ]
  },
  {
   "cell_type": "code",
   "execution_count": 31,
   "id": "0853a522-2c7c-4aaf-854e-98d5bcb67975",
   "metadata": {},
   "outputs": [
    {
     "data": {
      "text/html": [
       "<style type=\"text/css\">\n",
       "</style>\n",
       "<table id=\"T_4db32\">\n",
       "  <thead>\n",
       "    <tr>\n",
       "      <th class=\"blank level0\" >&nbsp;</th>\n",
       "      <th id=\"T_4db32_level0_col0\" class=\"col_heading level0 col0\" >2023-01-01 00:00:00</th>\n",
       "      <th id=\"T_4db32_level0_col1\" class=\"col_heading level0 col1\" >2024-01-01 00:00:00</th>\n",
       "      <th id=\"T_4db32_level0_col2\" class=\"col_heading level0 col2\" >2027-01-01 00:00:00</th>\n",
       "      <th id=\"T_4db32_level0_col3\" class=\"col_heading level0 col3\" >2032-01-01 00:00:00</th>\n",
       "    </tr>\n",
       "  </thead>\n",
       "  <tbody>\n",
       "    <tr>\n",
       "      <th id=\"T_4db32_level0_row0\" class=\"row_heading level0 row0\" >1y</th>\n",
       "      <td id=\"T_4db32_row0_col0\" class=\"data row0 col0\" >98.804</td>\n",
       "      <td id=\"T_4db32_row0_col1\" class=\"data row0 col1\" >-99.226</td>\n",
       "      <td id=\"T_4db32_row0_col2\" class=\"data row0 col2\" >-0.249</td>\n",
       "      <td id=\"T_4db32_row0_col3\" class=\"data row0 col3\" >-0.045</td>\n",
       "    </tr>\n",
       "    <tr>\n",
       "      <th id=\"T_4db32_level0_row1\" class=\"row_heading level0 row1\" >2y</th>\n",
       "      <td id=\"T_4db32_row1_col0\" class=\"data row1 col0\" >0.000</td>\n",
       "      <td id=\"T_4db32_row1_col1\" class=\"data row1 col1\" >196.441</td>\n",
       "      <td id=\"T_4db32_row1_col2\" class=\"data row1 col2\" >-195.783</td>\n",
       "      <td id=\"T_4db32_row1_col3\" class=\"data row1 col3\" >-0.181</td>\n",
       "    </tr>\n",
       "    <tr>\n",
       "      <th id=\"T_4db32_level0_row2\" class=\"row_heading level0 row2\" >5y</th>\n",
       "      <td id=\"T_4db32_row2_col0\" class=\"data row2 col0\" >0.000</td>\n",
       "      <td id=\"T_4db32_row2_col1\" class=\"data row2 col1\" >0.000</td>\n",
       "      <td id=\"T_4db32_row2_col2\" class=\"data row2 col2\" >476.315</td>\n",
       "      <td id=\"T_4db32_row2_col3\" class=\"data row2 col3\" >-474.719</td>\n",
       "    </tr>\n",
       "    <tr>\n",
       "      <th id=\"T_4db32_level0_row3\" class=\"row_heading level0 row3\" >10y</th>\n",
       "      <td id=\"T_4db32_row3_col0\" class=\"data row3 col0\" >0.000</td>\n",
       "      <td id=\"T_4db32_row3_col1\" class=\"data row3 col1\" >0.000</td>\n",
       "      <td id=\"T_4db32_row3_col2\" class=\"data row3 col2\" >0.000</td>\n",
       "      <td id=\"T_4db32_row3_col3\" class=\"data row3 col3\" >905.642</td>\n",
       "    </tr>\n",
       "  </tbody>\n",
       "</table>\n"
      ],
      "text/plain": [
       "<pandas.io.formats.style.Styler at 0x7f7a6deedaf0>"
      ]
     },
     "execution_count": 31,
     "metadata": {},
     "output_type": "execute_result"
    }
   ],
   "source": [
    "fwd_swaps = {\n",
    "    Swap(datetime(2022, 1, 1), 12*1, 12, 12): 1,\n",
    "    Swap(datetime(2023, 1, 1), 12*1, 12, 12): 1,\n",
    "    Swap(datetime(2024, 1, 1), 12*3, 12, 12): 1,\n",
    "    Swap(datetime(2027, 1, 1), 12*5, 12, 12): 1,\n",
    "}\n",
    "for swap in fwd_swaps.keys():\n",
    "    rate = swap.rate(s_cv).real\n",
    "    fwd_swaps[swap] = rate\n",
    "    swap.set_fixed_rate(fixed_rate=rate)\n",
    "fwd_swaps\n",
    "\n",
    "risk = {}\n",
    "for swap in fwd_swaps.keys():\n",
    "    risk.update({swap.end: swap.risk(s_cv)[:, 0]})\n",
    "\n",
    "df = pd.DataFrame(risk, index=[\"1y\", \"2y\", \"5y\", \"10y\"])\n",
    "df.style.format(\"{:.3f}\")"
   ]
  },
  {
   "cell_type": "markdown",
   "id": "d90b9561-6532-475a-a808-172b1c49137b",
   "metadata": {},
   "source": [
    "What we have done above is to risk forward swaps against our curve. When we scale each of these columns to one we have effectively built a Jacobian transformation for forward swaps to par swaps."
   ]
  },
  {
   "cell_type": "code",
   "execution_count": 32,
   "id": "0b713a66-151c-406d-8c1f-6b4e41aef681",
   "metadata": {},
   "outputs": [
    {
     "data": {
      "text/html": [
       "<style type=\"text/css\">\n",
       "</style>\n",
       "<table id=\"T_11486\">\n",
       "  <thead>\n",
       "    <tr>\n",
       "      <th class=\"blank level0\" >&nbsp;</th>\n",
       "      <th id=\"T_11486_level0_col0\" class=\"col_heading level0 col0\" >0</th>\n",
       "      <th id=\"T_11486_level0_col1\" class=\"col_heading level0 col1\" >1</th>\n",
       "      <th id=\"T_11486_level0_col2\" class=\"col_heading level0 col2\" >2</th>\n",
       "      <th id=\"T_11486_level0_col3\" class=\"col_heading level0 col3\" >3</th>\n",
       "    </tr>\n",
       "  </thead>\n",
       "  <tbody>\n",
       "    <tr>\n",
       "      <th id=\"T_11486_level0_row0\" class=\"row_heading level0 row0\" >0</th>\n",
       "      <td id=\"T_11486_row0_col0\" class=\"data row0 col0\" >1.000</td>\n",
       "      <td id=\"T_11486_row0_col1\" class=\"data row0 col1\" >-1.021</td>\n",
       "      <td id=\"T_11486_row0_col2\" class=\"data row0 col2\" >-0.001</td>\n",
       "      <td id=\"T_11486_row0_col3\" class=\"data row0 col3\" >-0.000</td>\n",
       "    </tr>\n",
       "    <tr>\n",
       "      <th id=\"T_11486_level0_row1\" class=\"row_heading level0 row1\" >1</th>\n",
       "      <td id=\"T_11486_row1_col0\" class=\"data row1 col0\" >0.000</td>\n",
       "      <td id=\"T_11486_row1_col1\" class=\"data row1 col1\" >2.021</td>\n",
       "      <td id=\"T_11486_row1_col2\" class=\"data row1 col2\" >-0.699</td>\n",
       "      <td id=\"T_11486_row1_col3\" class=\"data row1 col3\" >-0.000</td>\n",
       "    </tr>\n",
       "    <tr>\n",
       "      <th id=\"T_11486_level0_row2\" class=\"row_heading level0 row2\" >2</th>\n",
       "      <td id=\"T_11486_row2_col0\" class=\"data row2 col0\" >0.000</td>\n",
       "      <td id=\"T_11486_row2_col1\" class=\"data row2 col1\" >0.000</td>\n",
       "      <td id=\"T_11486_row2_col2\" class=\"data row2 col2\" >1.699</td>\n",
       "      <td id=\"T_11486_row2_col3\" class=\"data row2 col3\" >-1.102</td>\n",
       "    </tr>\n",
       "    <tr>\n",
       "      <th id=\"T_11486_level0_row3\" class=\"row_heading level0 row3\" >3</th>\n",
       "      <td id=\"T_11486_row3_col0\" class=\"data row3 col0\" >0.000</td>\n",
       "      <td id=\"T_11486_row3_col1\" class=\"data row3 col1\" >0.000</td>\n",
       "      <td id=\"T_11486_row3_col2\" class=\"data row3 col2\" >0.000</td>\n",
       "      <td id=\"T_11486_row3_col3\" class=\"data row3 col3\" >2.103</td>\n",
       "    </tr>\n",
       "  </tbody>\n",
       "</table>\n"
      ],
      "text/plain": [
       "<pandas.io.formats.style.Styler at 0x7f7a6dfd7d90>"
      ]
     },
     "execution_count": 32,
     "metadata": {},
     "output_type": "execute_result"
    }
   ],
   "source": [
    "J_fwd_par = (df / df.sum()).to_numpy()\n",
    "pd.DataFrame(J_fwd_par).style.format(\"{:.3f}\")"
   ]
  },
  {
   "cell_type": "markdown",
   "id": "ce04b8a5-4d7d-496d-b45a-d908506d81f6",
   "metadata": {},
   "source": [
    "### Par to Forward Jacobian\n",
    "\n",
    "Lets consider the process in reverse, defining our curve from forward swaps."
   ]
  },
  {
   "cell_type": "code",
   "execution_count": 33,
   "id": "4c6c37b7-527c-4abf-bd38-cfdeb11f174a",
   "metadata": {},
   "outputs": [
    {
     "name": "stdout",
     "output_type": "stream",
     "text": [
      "tolerance reached (levenberg_marquardt) after 8 iterations, func: 7.184331719832112e-16\n"
     ]
    }
   ],
   "source": [
    "s_cv = SolvedCurve(\n",
    "    nodes=nodes,\n",
    "    swaps=list(fwd_swaps.keys()),\n",
    "    obj_rates=list(fwd_swaps.values()),\n",
    "    interpolation=\"log_linear\",\n",
    "    algorithm=\"levenberg_marquardt\"\n",
    ")\n",
    "print(s_cv.iterate())"
   ]
  },
  {
   "cell_type": "code",
   "execution_count": 34,
   "id": "265f8b3c-bcea-4376-a970-ae8116068d25",
   "metadata": {},
   "outputs": [
    {
     "name": "stdout",
     "output_type": "stream",
     "text": [
      "1.2099999938339168\n",
      "2.068792362475484\n",
      "2.0602226928812164\n",
      "1.9797176107904535\n"
     ]
    }
   ],
   "source": [
    "for swap in fwd_swaps.keys():\n",
    "    print(swap.rate(s_cv).real)"
   ]
  },
  {
   "cell_type": "code",
   "execution_count": 40,
   "id": "37bd9d96-394c-4a03-9579-6bc69c2cece5",
   "metadata": {},
   "outputs": [
    {
     "data": {
      "text/html": [
       "<style type=\"text/css\">\n",
       "</style>\n",
       "<table id=\"T_88633\">\n",
       "  <thead>\n",
       "    <tr>\n",
       "      <th class=\"blank level0\" >&nbsp;</th>\n",
       "      <th id=\"T_88633_level0_col0\" class=\"col_heading level0 col0\" >2023-01-01 00:00:00</th>\n",
       "      <th id=\"T_88633_level0_col1\" class=\"col_heading level0 col1\" >2024-01-01 00:00:00</th>\n",
       "      <th id=\"T_88633_level0_col2\" class=\"col_heading level0 col2\" >2027-01-01 00:00:00</th>\n",
       "      <th id=\"T_88633_level0_col3\" class=\"col_heading level0 col3\" >2032-01-01 00:00:00</th>\n",
       "    </tr>\n",
       "  </thead>\n",
       "  <tbody>\n",
       "    <tr>\n",
       "      <th id=\"T_88633_level0_row0\" class=\"row_heading level0 row0\" >1y</th>\n",
       "      <td id=\"T_88633_row0_col0\" class=\"data row0 col0\" >98.804</td>\n",
       "      <td id=\"T_88633_row0_col1\" class=\"data row0 col1\" >-0.000</td>\n",
       "      <td id=\"T_88633_row0_col2\" class=\"data row0 col2\" >0.000</td>\n",
       "      <td id=\"T_88633_row0_col3\" class=\"data row0 col3\" >-0.000</td>\n",
       "    </tr>\n",
       "    <tr>\n",
       "      <th id=\"T_88633_level0_row1\" class=\"row_heading level0 row1\" >1y1y</th>\n",
       "      <td id=\"T_88633_row1_col0\" class=\"data row1 col0\" >0.000</td>\n",
       "      <td id=\"T_88633_row1_col1\" class=\"data row1 col1\" >96.802</td>\n",
       "      <td id=\"T_88633_row1_col2\" class=\"data row1 col2\" >0.000</td>\n",
       "      <td id=\"T_88633_row1_col3\" class=\"data row1 col3\" >-0.000</td>\n",
       "    </tr>\n",
       "    <tr>\n",
       "      <th id=\"T_88633_level0_row2\" class=\"row_heading level0 row2\" >2y3y</th>\n",
       "      <td id=\"T_88633_row2_col0\" class=\"data row2 col0\" >0.000</td>\n",
       "      <td id=\"T_88633_row2_col1\" class=\"data row2 col1\" >0.000</td>\n",
       "      <td id=\"T_88633_row2_col2\" class=\"data row2 col2\" >279.082</td>\n",
       "      <td id=\"T_88633_row2_col3\" class=\"data row2 col3\" >-0.000</td>\n",
       "    </tr>\n",
       "    <tr>\n",
       "      <th id=\"T_88633_level0_row3\" class=\"row_heading level0 row3\" >5y5y</th>\n",
       "      <td id=\"T_88633_row3_col0\" class=\"data row3 col0\" >0.000</td>\n",
       "      <td id=\"T_88633_row3_col1\" class=\"data row3 col1\" >0.000</td>\n",
       "      <td id=\"T_88633_row3_col2\" class=\"data row3 col2\" >0.000</td>\n",
       "      <td id=\"T_88633_row3_col3\" class=\"data row3 col3\" >429.645</td>\n",
       "    </tr>\n",
       "  </tbody>\n",
       "</table>\n"
      ],
      "text/plain": [
       "<pandas.io.formats.style.Styler at 0x7f7a6dc5ba00>"
      ]
     },
     "execution_count": 40,
     "metadata": {},
     "output_type": "execute_result"
    }
   ],
   "source": [
    "risk = {}\n",
    "for swap in fwd_swaps.keys():\n",
    "    risk.update({swap.end: swap.risk(s_cv)[:, 0]})\n",
    "    \n",
    "df = pd.DataFrame(risk, index=[\"1y\", \"1y1y\", \"2y3y\", \"5y5y\"])\n",
    "df.style.format(\"{:.3f}\")"
   ]
  },
  {
   "cell_type": "code",
   "execution_count": 41,
   "id": "21db851c-bb3a-45fc-b207-95a22d178449",
   "metadata": {},
   "outputs": [
    {
     "data": {
      "text/html": [
       "<style type=\"text/css\">\n",
       "</style>\n",
       "<table id=\"T_b89a4\">\n",
       "  <thead>\n",
       "    <tr>\n",
       "      <th class=\"blank level0\" >&nbsp;</th>\n",
       "      <th id=\"T_b89a4_level0_col0\" class=\"col_heading level0 col0\" >2023-01-01 00:00:00</th>\n",
       "      <th id=\"T_b89a4_level0_col1\" class=\"col_heading level0 col1\" >2024-01-01 00:00:00</th>\n",
       "      <th id=\"T_b89a4_level0_col2\" class=\"col_heading level0 col2\" >2027-01-01 00:00:00</th>\n",
       "      <th id=\"T_b89a4_level0_col3\" class=\"col_heading level0 col3\" >2032-01-01 00:00:00</th>\n",
       "    </tr>\n",
       "  </thead>\n",
       "  <tbody>\n",
       "    <tr>\n",
       "      <th id=\"T_b89a4_level0_row0\" class=\"row_heading level0 row0\" >1y</th>\n",
       "      <td id=\"T_b89a4_row0_col0\" class=\"data row0 col0\" >98.804</td>\n",
       "      <td id=\"T_b89a4_row0_col1\" class=\"data row0 col1\" >98.804</td>\n",
       "      <td id=\"T_b89a4_row0_col2\" class=\"data row0 col2\" >98.804</td>\n",
       "      <td id=\"T_b89a4_row0_col3\" class=\"data row0 col3\" >98.804</td>\n",
       "    </tr>\n",
       "    <tr>\n",
       "      <th id=\"T_b89a4_level0_row1\" class=\"row_heading level0 row1\" >1y1y</th>\n",
       "      <td id=\"T_b89a4_row1_col0\" class=\"data row1 col0\" >0.000</td>\n",
       "      <td id=\"T_b89a4_row1_col1\" class=\"data row1 col1\" >96.390</td>\n",
       "      <td id=\"T_b89a4_row1_col2\" class=\"data row1 col2\" >96.148</td>\n",
       "      <td id=\"T_b89a4_row1_col3\" class=\"data row1 col3\" >96.105</td>\n",
       "    </tr>\n",
       "    <tr>\n",
       "      <th id=\"T_b89a4_level0_row2\" class=\"row_heading level0 row2\" >2y3y</th>\n",
       "      <td id=\"T_b89a4_row2_col0\" class=\"data row2 col0\" >0.000</td>\n",
       "      <td id=\"T_b89a4_row2_col1\" class=\"data row2 col1\" >0.000</td>\n",
       "      <td id=\"T_b89a4_row2_col2\" class=\"data row2 col2\" >278.130</td>\n",
       "      <td id=\"T_b89a4_row2_col3\" class=\"data row2 col3\" >277.746</td>\n",
       "    </tr>\n",
       "    <tr>\n",
       "      <th id=\"T_b89a4_level0_row3\" class=\"row_heading level0 row3\" >5y5y</th>\n",
       "      <td id=\"T_b89a4_row3_col0\" class=\"data row3 col0\" >0.000</td>\n",
       "      <td id=\"T_b89a4_row3_col1\" class=\"data row3 col1\" >0.000</td>\n",
       "      <td id=\"T_b89a4_row3_col2\" class=\"data row3 col2\" >0.000</td>\n",
       "      <td id=\"T_b89a4_row3_col3\" class=\"data row3 col3\" >429.024</td>\n",
       "    </tr>\n",
       "  </tbody>\n",
       "</table>\n"
      ],
      "text/plain": [
       "<pandas.io.formats.style.Styler at 0x7f7a6dc0b430>"
      ]
     },
     "execution_count": 41,
     "metadata": {},
     "output_type": "execute_result"
    }
   ],
   "source": [
    "risk = {}\n",
    "for swap, rate in swaps.items():\n",
    "    risk.update({swap.end: swap.risk(s_cv)[:, 0]})\n",
    "\n",
    "df = pd.DataFrame(risk, index=[\"1y\", \"1y1y\", \"2y3y\", \"5y5y\"])\n",
    "df.style.format(\"{:.3f}\")"
   ]
  },
  {
   "cell_type": "markdown",
   "id": "4ce20583-719d-426a-aad7-baedc22a6aec",
   "metadata": {},
   "source": [
    "What we have done above is to risk par swaps against our forward curve. When we scale each of these columns to one we have effectively built a Jacobian transformation for par swaps to forward swaps."
   ]
  },
  {
   "cell_type": "code",
   "execution_count": 38,
   "id": "3f8b507a-2f0f-4582-b5db-aceb0bf17f3a",
   "metadata": {},
   "outputs": [
    {
     "data": {
      "text/html": [
       "<style type=\"text/css\">\n",
       "</style>\n",
       "<table id=\"T_b9cf7\">\n",
       "  <thead>\n",
       "    <tr>\n",
       "      <th class=\"blank level0\" >&nbsp;</th>\n",
       "      <th id=\"T_b9cf7_level0_col0\" class=\"col_heading level0 col0\" >0</th>\n",
       "      <th id=\"T_b9cf7_level0_col1\" class=\"col_heading level0 col1\" >1</th>\n",
       "      <th id=\"T_b9cf7_level0_col2\" class=\"col_heading level0 col2\" >2</th>\n",
       "      <th id=\"T_b9cf7_level0_col3\" class=\"col_heading level0 col3\" >3</th>\n",
       "    </tr>\n",
       "  </thead>\n",
       "  <tbody>\n",
       "    <tr>\n",
       "      <th id=\"T_b9cf7_level0_row0\" class=\"row_heading level0 row0\" >0</th>\n",
       "      <td id=\"T_b9cf7_row0_col0\" class=\"data row0 col0\" >1.000</td>\n",
       "      <td id=\"T_b9cf7_row0_col1\" class=\"data row0 col1\" >0.506</td>\n",
       "      <td id=\"T_b9cf7_row0_col2\" class=\"data row0 col2\" >0.209</td>\n",
       "      <td id=\"T_b9cf7_row0_col3\" class=\"data row0 col3\" >0.110</td>\n",
       "    </tr>\n",
       "    <tr>\n",
       "      <th id=\"T_b9cf7_level0_row1\" class=\"row_heading level0 row1\" >1</th>\n",
       "      <td id=\"T_b9cf7_row1_col0\" class=\"data row1 col0\" >0.000</td>\n",
       "      <td id=\"T_b9cf7_row1_col1\" class=\"data row1 col1\" >0.494</td>\n",
       "      <td id=\"T_b9cf7_row1_col2\" class=\"data row1 col2\" >0.203</td>\n",
       "      <td id=\"T_b9cf7_row1_col3\" class=\"data row1 col3\" >0.107</td>\n",
       "    </tr>\n",
       "    <tr>\n",
       "      <th id=\"T_b9cf7_level0_row2\" class=\"row_heading level0 row2\" >2</th>\n",
       "      <td id=\"T_b9cf7_row2_col0\" class=\"data row2 col0\" >0.000</td>\n",
       "      <td id=\"T_b9cf7_row2_col1\" class=\"data row2 col1\" >0.000</td>\n",
       "      <td id=\"T_b9cf7_row2_col2\" class=\"data row2 col2\" >0.588</td>\n",
       "      <td id=\"T_b9cf7_row2_col3\" class=\"data row2 col3\" >0.308</td>\n",
       "    </tr>\n",
       "    <tr>\n",
       "      <th id=\"T_b9cf7_level0_row3\" class=\"row_heading level0 row3\" >3</th>\n",
       "      <td id=\"T_b9cf7_row3_col0\" class=\"data row3 col0\" >0.000</td>\n",
       "      <td id=\"T_b9cf7_row3_col1\" class=\"data row3 col1\" >0.000</td>\n",
       "      <td id=\"T_b9cf7_row3_col2\" class=\"data row3 col2\" >0.000</td>\n",
       "      <td id=\"T_b9cf7_row3_col3\" class=\"data row3 col3\" >0.476</td>\n",
       "    </tr>\n",
       "  </tbody>\n",
       "</table>\n"
      ],
      "text/plain": [
       "<pandas.io.formats.style.Styler at 0x7f7a6dc58dc0>"
      ]
     },
     "execution_count": 38,
     "metadata": {},
     "output_type": "execute_result"
    }
   ],
   "source": [
    "J_par_fwd = (df / df.sum()).to_numpy()\n",
    "pd.DataFrame(J_par_fwd).style.format(\"{:.3f}\")"
   ]
  },
  {
   "cell_type": "markdown",
   "id": "fbff9c76-6911-46a0-9333-894e461de560",
   "metadata": {},
   "source": [
    "### Testing the lossless nature of our numerical library\n",
    "\n",
    "We should be able to convert and then convert back to obtain the same risks.\n",
    "\n",
    "Suppose we convert 1000 10Y par risk to fwd risk and then back to par risk, what happens?"
   ]
  },
  {
   "cell_type": "code",
   "execution_count": 15,
   "id": "ff70bfa9-3400-47d1-8b0a-25933efc3698",
   "metadata": {},
   "outputs": [
    {
     "data": {
      "text/plain": [
       "array([[109.57822051],\n",
       "       [106.58425054],\n",
       "       [308.03173736],\n",
       "       [475.80579158]])"
      ]
     },
     "execution_count": 15,
     "metadata": {},
     "output_type": "execute_result"
    }
   ],
   "source": [
    "par_risk = np.array([0, 0, 0, 1000])[:, np.newaxis]\n",
    "fwd_risk = np.matmul(J_par_fwd, par_risk)\n",
    "fwd_risk"
   ]
  },
  {
   "cell_type": "code",
   "execution_count": 16,
   "id": "a3442bb7-c166-4f16-8357-9d34601dcecd",
   "metadata": {},
   "outputs": [
    {
     "data": {
      "text/plain": [
       "array([[ 4.65625473e-01],\n",
       "       [ 6.24084350e-03],\n",
       "       [-9.67230625e-01],\n",
       "       [ 1.00049536e+03]])"
      ]
     },
     "execution_count": 16,
     "metadata": {},
     "output_type": "execute_result"
    }
   ],
   "source": [
    "par_risk_reversed = np.matmul(J_fwd_par, fwd_risk)\n",
    "par_risk_reversed"
   ]
  },
  {
   "cell_type": "markdown",
   "id": "255ece84-a437-4b5e-8556-0f3aef5b91b5",
   "metadata": {},
   "source": [
    "This is close, but we have lost some precision due to either machine precision or numerical truncation.\n",
    "\n",
    "The same can be seen if we compare the analytical inverses of the Jacobians."
   ]
  },
  {
   "cell_type": "code",
   "execution_count": 17,
   "id": "243eb098-0780-4c2d-a219-370cd4b3a155",
   "metadata": {},
   "outputs": [
    {
     "data": {
      "text/html": [
       "<style type=\"text/css\">\n",
       "</style>\n",
       "<table id=\"T_4d32d\">\n",
       "  <thead>\n",
       "    <tr>\n",
       "      <th class=\"blank level0\" >&nbsp;</th>\n",
       "      <th id=\"T_4d32d_level0_col0\" class=\"col_heading level0 col0\" >0</th>\n",
       "      <th id=\"T_4d32d_level0_col1\" class=\"col_heading level0 col1\" >1</th>\n",
       "      <th id=\"T_4d32d_level0_col2\" class=\"col_heading level0 col2\" >2</th>\n",
       "      <th id=\"T_4d32d_level0_col3\" class=\"col_heading level0 col3\" >3</th>\n",
       "    </tr>\n",
       "  </thead>\n",
       "  <tbody>\n",
       "    <tr>\n",
       "      <th id=\"T_4d32d_level0_row0\" class=\"row_heading level0 row0\" >0</th>\n",
       "      <td id=\"T_4d32d_row0_col0\" class=\"data row0 col0\" >0.0000</td>\n",
       "      <td id=\"T_4d32d_row0_col1\" class=\"data row0 col1\" >0.0011</td>\n",
       "      <td id=\"T_4d32d_row0_col2\" class=\"data row0 col2\" >0.0007</td>\n",
       "      <td id=\"T_4d32d_row0_col3\" class=\"data row0 col3\" >0.0003</td>\n",
       "    </tr>\n",
       "    <tr>\n",
       "      <th id=\"T_4d32d_level0_row1\" class=\"row_heading level0 row1\" >1</th>\n",
       "      <td id=\"T_4d32d_row1_col0\" class=\"data row1 col0\" >0.0000</td>\n",
       "      <td id=\"T_4d32d_row1_col1\" class=\"data row1 col1\" >-0.0011</td>\n",
       "      <td id=\"T_4d32d_row1_col2\" class=\"data row1 col2\" >-0.0002</td>\n",
       "      <td id=\"T_4d32d_row1_col3\" class=\"data row1 col3\" >-0.0001</td>\n",
       "    </tr>\n",
       "    <tr>\n",
       "      <th id=\"T_4d32d_level0_row2\" class=\"row_heading level0 row2\" >2</th>\n",
       "      <td id=\"T_4d32d_row2_col0\" class=\"data row2 col0\" >0.0000</td>\n",
       "      <td id=\"T_4d32d_row2_col1\" class=\"data row2 col1\" >0.0000</td>\n",
       "      <td id=\"T_4d32d_row2_col2\" class=\"data row2 col2\" >-0.0005</td>\n",
       "      <td id=\"T_4d32d_row2_col3\" class=\"data row2 col3\" >-0.0004</td>\n",
       "    </tr>\n",
       "    <tr>\n",
       "      <th id=\"T_4d32d_level0_row3\" class=\"row_heading level0 row3\" >3</th>\n",
       "      <td id=\"T_4d32d_row3_col0\" class=\"data row3 col0\" >0.0000</td>\n",
       "      <td id=\"T_4d32d_row3_col1\" class=\"data row3 col1\" >0.0000</td>\n",
       "      <td id=\"T_4d32d_row3_col2\" class=\"data row3 col2\" >0.0000</td>\n",
       "      <td id=\"T_4d32d_row3_col3\" class=\"data row3 col3\" >0.0002</td>\n",
       "    </tr>\n",
       "  </tbody>\n",
       "</table>\n"
      ],
      "text/plain": [
       "<pandas.io.formats.style.Styler at 0x7f7a6dfffbb0>"
      ]
     },
     "execution_count": 17,
     "metadata": {},
     "output_type": "execute_result"
    }
   ],
   "source": [
    "pd.DataFrame(J_par_fwd - np.linalg.inv(J_fwd_par)).style.format(\"{:.4f}\")"
   ]
  },
  {
   "cell_type": "code",
   "execution_count": 18,
   "id": "018bdf6d-e895-4541-a586-d873713a3bb6",
   "metadata": {},
   "outputs": [
    {
     "data": {
      "text/html": [
       "<style type=\"text/css\">\n",
       "</style>\n",
       "<table id=\"T_121a9\">\n",
       "  <thead>\n",
       "    <tr>\n",
       "      <th class=\"blank level0\" >&nbsp;</th>\n",
       "      <th id=\"T_121a9_level0_col0\" class=\"col_heading level0 col0\" >0</th>\n",
       "      <th id=\"T_121a9_level0_col1\" class=\"col_heading level0 col1\" >1</th>\n",
       "      <th id=\"T_121a9_level0_col2\" class=\"col_heading level0 col2\" >2</th>\n",
       "      <th id=\"T_121a9_level0_col3\" class=\"col_heading level0 col3\" >3</th>\n",
       "    </tr>\n",
       "  </thead>\n",
       "  <tbody>\n",
       "    <tr>\n",
       "      <th id=\"T_121a9_level0_row0\" class=\"row_heading level0 row0\" >0</th>\n",
       "      <td id=\"T_121a9_row0_col0\" class=\"data row0 col0\" >0.0000</td>\n",
       "      <td id=\"T_121a9_row0_col1\" class=\"data row0 col1\" >0.0044</td>\n",
       "      <td id=\"T_121a9_row0_col2\" class=\"data row0 col2\" >0.0000</td>\n",
       "      <td id=\"T_121a9_row0_col3\" class=\"data row0 col3\" >0.0000</td>\n",
       "    </tr>\n",
       "    <tr>\n",
       "      <th id=\"T_121a9_level0_row1\" class=\"row_heading level0 row1\" >1</th>\n",
       "      <td id=\"T_121a9_row1_col0\" class=\"data row1 col0\" >0.0000</td>\n",
       "      <td id=\"T_121a9_row1_col1\" class=\"data row1 col1\" >-0.0044</td>\n",
       "      <td id=\"T_121a9_row1_col2\" class=\"data row1 col2\" >0.0015</td>\n",
       "      <td id=\"T_121a9_row1_col3\" class=\"data row1 col3\" >0.0000</td>\n",
       "    </tr>\n",
       "    <tr>\n",
       "      <th id=\"T_121a9_level0_row2\" class=\"row_heading level0 row2\" >2</th>\n",
       "      <td id=\"T_121a9_row2_col0\" class=\"data row2 col0\" >0.0000</td>\n",
       "      <td id=\"T_121a9_row2_col1\" class=\"data row2 col1\" >0.0000</td>\n",
       "      <td id=\"T_121a9_row2_col2\" class=\"data row2 col2\" >-0.0015</td>\n",
       "      <td id=\"T_121a9_row2_col3\" class=\"data row2 col3\" >-0.0010</td>\n",
       "    </tr>\n",
       "    <tr>\n",
       "      <th id=\"T_121a9_level0_row3\" class=\"row_heading level0 row3\" >3</th>\n",
       "      <td id=\"T_121a9_row3_col0\" class=\"data row3 col0\" >0.0000</td>\n",
       "      <td id=\"T_121a9_row3_col1\" class=\"data row3 col1\" >0.0000</td>\n",
       "      <td id=\"T_121a9_row3_col2\" class=\"data row3 col2\" >0.0000</td>\n",
       "      <td id=\"T_121a9_row3_col3\" class=\"data row3 col3\" >0.0010</td>\n",
       "    </tr>\n",
       "  </tbody>\n",
       "</table>\n"
      ],
      "text/plain": [
       "<pandas.io.formats.style.Styler at 0x7f7a6dfff1c0>"
      ]
     },
     "execution_count": 18,
     "metadata": {},
     "output_type": "execute_result"
    }
   ],
   "source": [
    "pd.DataFrame(J_fwd_par - np.linalg.inv(J_par_fwd)).style.format(\"{:.4f}\")"
   ]
  },
  {
   "cell_type": "code",
   "execution_count": null,
   "id": "b0b50200-3e77-4452-bd39-780c9b4a4b14",
   "metadata": {},
   "outputs": [],
   "source": []
  }
 ],
 "metadata": {
  "kernelspec": {
   "display_name": "Python 3 (ipykernel)",
   "language": "python",
   "name": "python3"
  },
  "language_info": {
   "codemirror_mode": {
    "name": "ipython",
    "version": 3
   },
   "file_extension": ".py",
   "mimetype": "text/x-python",
   "name": "python",
   "nbconvert_exporter": "python",
   "pygments_lexer": "ipython3",
   "version": "3.8.17"
  }
 },
 "nbformat": 4,
 "nbformat_minor": 5
}
